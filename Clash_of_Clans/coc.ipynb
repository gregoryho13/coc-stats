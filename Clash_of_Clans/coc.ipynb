{
 "cells": [
  {
   "cell_type": "markdown",
   "id": "d2546015-f840-48b8-9f0b-f095f296c716",
   "metadata": {},
   "source": [
    "<h1 align=\"center\"><font size=\"8\">How to win a Clan War with Statistics</font><br><font size=\"5\">an in-depth Clash of Clans Clan War analysis by Gregory Ho<br>Published May 2022</font> </h1>\n",
    "\n",
    "## Table of Contents\n",
    "1. [Introduction](#introduction)\n",
    "2. [Connect to Clash of Clans API](#connect)\n",
    "3. [Collect Clan War data](#collect)\n",
    "4. [Convert Clan War Log to dataframe](#convert)\n",
    "5. [Analysis](#analysis)\n",
    "---"
   ]
  },
  {
   "cell_type": "markdown",
   "id": "3bfe3014-3100-4859-8c13-98fffe97901d",
   "metadata": {},
   "source": [
    "## Introduction <a id=\"introduction\"></a>\n",
    "### The Problem\n",
    "From a serious Clash of Clans war-goer to a casual weekend Clash of Clans war player, being able to bring out the best of your clan to perform in war has always been the goal. Thus, every clan leader has their own way of enforcing the discipline of their clan, whether it is requesting donations only as much as you donate or requiring hero levels to be above a certain threshold.  <br>\n",
    "\n",
    "For smaller clans of some 10-15 members, enforcing the clan is certainly manageable, however, it scales poorly when that size suddenly drives up to 40+ members. The task of managing each individual member on a regular basis becomes a menial task when using the game interface to find and extract information from each member's profile. And when that is further scaled up to estimating the strength of the enemy clan by going through each of *their* 40+ member profiles, clan management becomes unmanageable. This is where the Clash of Clans API is able to cover for.  <br>\n",
    "\n",
    "### The Solution\n",
    "The Clash of Clans (CoC) API provides detailed information regarding a player's statistics, clan information, and clan war information, which could not be easily collected en masse in-game.  \n",
    "This notebook is meant to provide a simple tutorial of the possibilities allowed by the API.  <br>\n",
    "\n",
    "In order to connect to the API, we need to register a CoC developer account and make requests with JSON web tokens via API keys. Fortunately, this process is made easier with an existing repository which handles the keys and tokens for us, allowing us to connect to the client only requiring a developer account. We may then proceed to collect various datapoints on such as donations made by specific players, clan-wide hero levels, and the various wins and losses against other clans in war.  <br>\n",
    "\n",
    "Here, we will attempt to discover the factors that influence the result of winning a war against an opponent clan through calculating metrics such as average hero levels for the first 15 players in war. These discoveries will especially reveal greater insight into the hidden factors that may influence the outcome of a clan war.  \n",
    "Afterwards, we can also build a classifier for estimating the likelihood of winning a war given certain attributes of the clan, so predictions may be made to whether a war can be won or not."
   ]
  },
  {
   "cell_type": "markdown",
   "id": "f5987ee5-e77e-4ca6-990f-d2b08e548417",
   "metadata": {},
   "source": [
    "### Import libraries and packages\n",
    "The first 3 imports allows us to use the coc.py package to connect to the CoC API without worrying about tokens or API keys. The fourth import contains customized utility functions for parsing data from the coc.py package\n",
    "\n",
    "The next 3 imports allow us to more easily parse data coming from the API. coc_utils uses these imports\n",
    "\n",
    "The next group of imports is involved in data transformation and visualization after collecting the appropriate data in a readable format. sklearn is also provided to estimate parameter correlation with war results.\n",
    "\n",
    "The final group of imports deal with formatting and output data in each code block"
   ]
  },
  {
   "cell_type": "code",
   "execution_count": 1,
   "id": "e55100e5-30b8-4741-8ec5-918610da0ca6",
   "metadata": {},
   "outputs": [],
   "source": [
    "import coc\n",
    "import asyncio\n",
    "import nest_asyncio\n",
    "import coc_utils\n",
    "\n",
    "import re\n",
    "from bs4 import BeautifulSoup as bs4\n",
    "import datetime\n",
    "\n",
    "import math\n",
    "import pandas as pd\n",
    "import numpy as np\n",
    "import matplotlib.pyplot as plt\n",
    "import seaborn as sns\n",
    "from scipy.stats import shapiro\n",
    "import sklearn\n",
    "from sklearn.svm import SVC\n",
    "\n",
    "from IPython.display import clear_output\n",
    "import time\n",
    "import pprint"
   ]
  },
  {
   "cell_type": "markdown",
   "id": "6898b1f0-1e0e-4533-9f4a-8e7c9d95f0f7",
   "metadata": {},
   "source": [
    "---"
   ]
  },
  {
   "cell_type": "markdown",
   "id": "5b2e02cb-75cc-42b4-a489-9da1141236bb",
   "metadata": {
    "tags": []
   },
   "source": [
    "## Connect to Clash of Clans API <a id=\"connect\"></a>\n",
    "With the coc.py package provided by mathsman5133 at https://github.com/mathsman5133/coc.py, connecting to the Clash of Clans API becomes easier. \\\n",
    "Normally, the Clash of Clans API requires a Clash of Clans developer account, JSON web token, as well as the public IP address port to release data to. \\\n",
    "This package handles the token authentications only requiring the Clash of Clans developer account authentication information. \\\n",
    "The data is then able to be collected asynchronously via the coc.py package.\n",
    "### Login Information\n",
    "A Clash of Clans developer account can be made at https://developer.clashofclans.com/ \\\n",
    "The provided email and password credentials used here were created specifically for this notebook, but your own developer account may be provided for your own use.\n",
    "\n",
    "Create an auth.txt file in this directory. Put your email on the first line and your password on the second line."
   ]
  },
  {
   "cell_type": "code",
   "execution_count": 2,
   "id": "e1151c90-3d78-4bc9-96d5-915d0f49109e",
   "metadata": {},
   "outputs": [],
   "source": [
    "fp = open('auth.txt', 'r')\n",
    "lines = fp.readlines()\n",
    "\n",
    "email = lines[0]\n",
    "pwd = lines[1]"
   ]
  },
  {
   "cell_type": "markdown",
   "id": "e1383540-be06-4a06-8240-a0b75c3d4f50",
   "metadata": {
    "tags": []
   },
   "source": [
    "### Connection Request\n",
    "asyncio is a required package of coc.py, and nest_asyncio is required to run the nested asynchronous tasks in coc.py \\\n",
    "After these requirements are met, login to the developer client through coc.login()"
   ]
  },
  {
   "cell_type": "code",
   "execution_count": 3,
   "id": "0b73094c-7ab3-4716-8a9d-577335a5747e",
   "metadata": {},
   "outputs": [],
   "source": [
    "nest_asyncio.apply()\n",
    "client = coc.login(email, pwd)"
   ]
  },
  {
   "cell_type": "markdown",
   "id": "57b6ca37-8cd8-48f5-968c-db6962485b96",
   "metadata": {},
   "source": [
    "This client allows us to run coroutines of gathering data from each task.  \n",
    "Some of the actions include searching for clans and getting the current war data if any in addition to retrieving individual player and clan data."
   ]
  },
  {
   "cell_type": "markdown",
   "id": "f578f0da-f85c-4676-a787-936ad2e1201a",
   "metadata": {},
   "source": [
    "---"
   ]
  },
  {
   "cell_type": "markdown",
   "id": "5598281e-b8cf-48da-93f9-7d1ab64e6a2e",
   "metadata": {
    "tags": []
   },
   "source": [
    "## Collect Clan and Player data <a id=\"collect\"></a>\n",
    "After logging in, we can start collecting Clash of Clans data. Like in the game, the player tag and clan tag serve as unique identifiers for their player and clan, so it should be provided \n",
    "### Set player and clan tags\n",
    "Here, my personal player tag and clan tag is used to pull my player and clan information from, but it is recommended that your own account information may be provided for your own use."
   ]
  },
  {
   "cell_type": "code",
   "execution_count": 4,
   "id": "4dea81c9-f802-4794-9d23-4385b45f4798",
   "metadata": {},
   "outputs": [],
   "source": [
    "player_tag = \"#JYLP2PJG\"\n",
    "clan_tag = \"#20VLL8222\""
   ]
  },
  {
   "cell_type": "markdown",
   "id": "a1d24acc-f523-4ca6-8b77-112c914d337a",
   "metadata": {},
   "source": [
    "### Sample Player & Clan Info\n",
    "From coc_utils, we can sample some info from the given player and clan tags by using the customized utility functions to pull the data from the client  \n",
    "The utility functions return a dictionary of the attributes of the player/clan except for get_warlog_info which returns a list of dictionaries of the attributes for each war"
   ]
  },
  {
   "cell_type": "code",
   "execution_count": 5,
   "id": "cb4165ae-098c-4138-afbc-b8bf940a68c5",
   "metadata": {},
   "outputs": [],
   "source": [
    "player_info = await coc_utils.get_player_info(client, player_tag)   \n",
    "# print(player_info)"
   ]
  },
  {
   "cell_type": "markdown",
   "id": "e7bdb275-54c8-4d7d-99ce-4bc6565ed511",
   "metadata": {},
   "source": [
    "This function requires the client from coc.py and a player tag ID. Additionally, a parameter limit may be provided for which metrics to not include in the player data  \n",
    "get_player_info(client, player_tag, limit=\\['achievements','load_game_data','builder_hall','builder_troops'\\])  \n",
    "Data:  \n",
    "- Attack Wins\n",
    "- Best Trophies\n",
    "- Best Versus Trophies\n",
    "- Clan\n",
    "- Clan Previous Rank\n",
    "- Clan Rank\n",
    "- Defense Wins\n",
    "- Donations\n",
    "- Experience Level\n",
    "- Troop Levels\n",
    "- Hero Levels\n",
    "- Pet Levels\n",
    "- Spell Levels\n",
    "- Siege Machine Levels\n",
    "- Trophies (Current)\n",
    "- Versus Attack Wins\n",
    "- Versus Trophies (Current)\n",
    "- Opted in War?\n",
    "- War Stars\n",
    "\n",
    "We are also able to sample the clan data as well as the detailed information on each member in the clan by indicating detailed=True<br>\n",
    "The output here is omitted here because of the large amount of information to note  \n",
    "(omit_members is used to omit outputting the list of members in the clan as an attribute)"
   ]
  },
  {
   "cell_type": "code",
   "execution_count": 6,
   "id": "93c94cce-5fc1-488b-9e97-f8caaea015ff",
   "metadata": {},
   "outputs": [],
   "source": [
    "# Detailed also adds individual member data to the provided query\n",
    "clan_info = await coc_utils.get_clan_info(client, clan_tag, detailed=True, omit_members=True)\n",
    "# print(clan_info)"
   ]
  },
  {
   "cell_type": "markdown",
   "id": "eaee3056-157a-4b36-b725-818fbe1ee0b0",
   "metadata": {},
   "source": [
    "get_clan_info(client, clan_tag, detailed=False, omit_members=False)  \n",
    "Data:\n",
    "- Chat Language\n",
    "- Description\n",
    "- Labels 1,2,3\n",
    "- Level\n",
    "- Location\n",
    "- Number of Members\n",
    "- Clan Name\n",
    "- Clan Points\n",
    "- Is war log public?\n",
    "- Required trophies to join\n",
    "- Share Link\n",
    "- Clan Tag\n",
    "- Invitation Setting\n",
    "- Clan Versus Points\n",
    "- War Frequency\n",
    "- War League\n",
    "- War wins, losses, ties\n",
    "- War win streak\n",
    "\n",
    "\n",
    "And if detailed:  \n",
    "- Attack wins of every member\n",
    "- Best trophies of every member\n",
    "- Donations of every member\n",
    "- Troop/Spell/Hero/Pet levels of every member\n",
    "- Town Hall level of every member\n",
    "- Legend Trophies of every member\n",
    "- Trophies of every member (current)\n",
    "- Number of members opting in for war"
   ]
  },
  {
   "cell_type": "markdown",
   "id": "da47e6d7-b1b8-4a83-8cc8-0dc64e92d1fb",
   "metadata": {},
   "source": [
    "If the clan tag is not provided, you can also search for various clans by name as well"
   ]
  },
  {
   "cell_type": "code",
   "execution_count": 7,
   "id": "a9291995-df0c-48dc-a161-647632bcc492",
   "metadata": {},
   "outputs": [
    {
     "data": {
      "text/html": [
       "<div>\n",
       "<style scoped>\n",
       "    .dataframe tbody tr th:only-of-type {\n",
       "        vertical-align: middle;\n",
       "    }\n",
       "\n",
       "    .dataframe tbody tr th {\n",
       "        vertical-align: top;\n",
       "    }\n",
       "\n",
       "    .dataframe thead th {\n",
       "        text-align: right;\n",
       "    }\n",
       "</style>\n",
       "<table border=\"1\" class=\"dataframe\">\n",
       "  <thead>\n",
       "    <tr style=\"text-align: right;\">\n",
       "      <th></th>\n",
       "      <th>chat_language</th>\n",
       "      <th>description</th>\n",
       "      <th>labels</th>\n",
       "      <th>level</th>\n",
       "      <th>location</th>\n",
       "      <th>member_count</th>\n",
       "      <th>name</th>\n",
       "      <th>points</th>\n",
       "      <th>public_war_log</th>\n",
       "      <th>required_trophies</th>\n",
       "      <th>share_link</th>\n",
       "      <th>tag</th>\n",
       "      <th>type</th>\n",
       "      <th>versus_points</th>\n",
       "      <th>war_frequency</th>\n",
       "      <th>war_league</th>\n",
       "      <th>war_losses</th>\n",
       "      <th>war_ties</th>\n",
       "      <th>war_win_streak</th>\n",
       "      <th>war_wins</th>\n",
       "    </tr>\n",
       "  </thead>\n",
       "  <tbody>\n",
       "    <tr>\n",
       "      <th>0</th>\n",
       "      <td>English</td>\n",
       "      <td>War Perfecting Clan. War Attack Style: YEET. N...</td>\n",
       "      <td>[Clan Wars, Clan War League, Donations]</td>\n",
       "      <td>17</td>\n",
       "      <td>Australia</td>\n",
       "      <td>48</td>\n",
       "      <td>Yeet</td>\n",
       "      <td>40671</td>\n",
       "      <td>True</td>\n",
       "      <td>3000</td>\n",
       "      <td>https://link.clashofclans.com/en?action=OpenCl...</td>\n",
       "      <td>#20VLL8222</td>\n",
       "      <td>inviteOnly</td>\n",
       "      <td>41388</td>\n",
       "      <td>always</td>\n",
       "      <td>Crystal League I</td>\n",
       "      <td>176</td>\n",
       "      <td>1</td>\n",
       "      <td>0</td>\n",
       "      <td>239</td>\n",
       "    </tr>\n",
       "    <tr>\n",
       "      <th>1</th>\n",
       "      <td>None</td>\n",
       "      <td>DANISH CLAN :) Velkommen til Yeet dette er en ...</td>\n",
       "      <td>[Clan Wars, Donations, Friendly]</td>\n",
       "      <td>5</td>\n",
       "      <td>Denmark</td>\n",
       "      <td>35</td>\n",
       "      <td>Yeet</td>\n",
       "      <td>18474</td>\n",
       "      <td>True</td>\n",
       "      <td>1500</td>\n",
       "      <td>https://link.clashofclans.com/en?action=OpenCl...</td>\n",
       "      <td>#2889GUQCL</td>\n",
       "      <td>inviteOnly</td>\n",
       "      <td>18610</td>\n",
       "      <td>always</td>\n",
       "      <td>Gold League I</td>\n",
       "      <td>18</td>\n",
       "      <td>0</td>\n",
       "      <td>1</td>\n",
       "      <td>21</td>\n",
       "    </tr>\n",
       "    <tr>\n",
       "      <th>2</th>\n",
       "      <td>Nederlands</td>\n",
       "      <td></td>\n",
       "      <td>[Donations, Friendly, Competitive]</td>\n",
       "      <td>2</td>\n",
       "      <td>None</td>\n",
       "      <td>10</td>\n",
       "      <td>yeet</td>\n",
       "      <td>8083</td>\n",
       "      <td>False</td>\n",
       "      <td>0</td>\n",
       "      <td>https://link.clashofclans.com/en?action=OpenCl...</td>\n",
       "      <td>#2LJL9YQLP</td>\n",
       "      <td>inviteOnly</td>\n",
       "      <td>7560</td>\n",
       "      <td>unknown</td>\n",
       "      <td>Unranked</td>\n",
       "      <td>None</td>\n",
       "      <td>None</td>\n",
       "      <td>0</td>\n",
       "      <td>3</td>\n",
       "    </tr>\n",
       "    <tr>\n",
       "      <th>3</th>\n",
       "      <td>Deutsch</td>\n",
       "      <td>Deutschland🇩🇪🇩🇪🇩🇪🇩🇪🇩🇪🇩🇪    Afk= Kick</td>\n",
       "      <td>[International, Donations, Competitive]</td>\n",
       "      <td>7</td>\n",
       "      <td>International</td>\n",
       "      <td>46</td>\n",
       "      <td>Yeet</td>\n",
       "      <td>22539</td>\n",
       "      <td>True</td>\n",
       "      <td>1800</td>\n",
       "      <td>https://link.clashofclans.com/en?action=OpenCl...</td>\n",
       "      <td>#2L200RG9C</td>\n",
       "      <td>open</td>\n",
       "      <td>24636</td>\n",
       "      <td>always</td>\n",
       "      <td>Gold League III</td>\n",
       "      <td>60</td>\n",
       "      <td>1</td>\n",
       "      <td>0</td>\n",
       "      <td>62</td>\n",
       "    </tr>\n",
       "    <tr>\n",
       "      <th>4</th>\n",
       "      <td>Deutsch</td>\n",
       "      <td>Keine Knechte und Geringverdiener, Hoher Natri...</td>\n",
       "      <td>[Farming, Friendly, Underdog]</td>\n",
       "      <td>4</td>\n",
       "      <td>Germany</td>\n",
       "      <td>10</td>\n",
       "      <td>Yeet</td>\n",
       "      <td>7329</td>\n",
       "      <td>False</td>\n",
       "      <td>0</td>\n",
       "      <td>https://link.clashofclans.com/en?action=OpenCl...</td>\n",
       "      <td>#2LLLLJ28J</td>\n",
       "      <td>closed</td>\n",
       "      <td>8190</td>\n",
       "      <td>always</td>\n",
       "      <td>Unranked</td>\n",
       "      <td>None</td>\n",
       "      <td>None</td>\n",
       "      <td>2</td>\n",
       "      <td>33</td>\n",
       "    </tr>\n",
       "  </tbody>\n",
       "</table>\n",
       "</div>"
      ],
      "text/plain": [
       "  chat_language                                        description  \\\n",
       "0       English  War Perfecting Clan. War Attack Style: YEET. N...   \n",
       "1          None  DANISH CLAN :) Velkommen til Yeet dette er en ...   \n",
       "2    Nederlands                                                      \n",
       "3       Deutsch               Deutschland🇩🇪🇩🇪🇩🇪🇩🇪🇩🇪🇩🇪    Afk= Kick   \n",
       "4       Deutsch  Keine Knechte und Geringverdiener, Hoher Natri...   \n",
       "\n",
       "                                    labels  level       location  \\\n",
       "0  [Clan Wars, Clan War League, Donations]     17      Australia   \n",
       "1         [Clan Wars, Donations, Friendly]      5        Denmark   \n",
       "2       [Donations, Friendly, Competitive]      2           None   \n",
       "3  [International, Donations, Competitive]      7  International   \n",
       "4            [Farming, Friendly, Underdog]      4        Germany   \n",
       "\n",
       "   member_count  name  points public_war_log  required_trophies  \\\n",
       "0            48  Yeet   40671           True               3000   \n",
       "1            35  Yeet   18474           True               1500   \n",
       "2            10  yeet    8083          False                  0   \n",
       "3            46  Yeet   22539           True               1800   \n",
       "4            10  Yeet    7329          False                  0   \n",
       "\n",
       "                                          share_link         tag        type  \\\n",
       "0  https://link.clashofclans.com/en?action=OpenCl...  #20VLL8222  inviteOnly   \n",
       "1  https://link.clashofclans.com/en?action=OpenCl...  #2889GUQCL  inviteOnly   \n",
       "2  https://link.clashofclans.com/en?action=OpenCl...  #2LJL9YQLP  inviteOnly   \n",
       "3  https://link.clashofclans.com/en?action=OpenCl...  #2L200RG9C        open   \n",
       "4  https://link.clashofclans.com/en?action=OpenCl...  #2LLLLJ28J      closed   \n",
       "\n",
       "   versus_points war_frequency        war_league war_losses war_ties  \\\n",
       "0          41388        always  Crystal League I        176        1   \n",
       "1          18610        always     Gold League I         18        0   \n",
       "2           7560       unknown          Unranked       None     None   \n",
       "3          24636        always   Gold League III         60        1   \n",
       "4           8190        always          Unranked       None     None   \n",
       "\n",
       "   war_win_streak  war_wins  \n",
       "0               0       239  \n",
       "1               1        21  \n",
       "2               0         3  \n",
       "3               0        62  \n",
       "4               2        33  "
      ]
     },
     "execution_count": 7,
     "metadata": {},
     "output_type": "execute_result"
    }
   ],
   "source": [
    "multiple_clan_info = []\n",
    "clans = await client.search_clans(name=\"Yeet\",limit=5)\n",
    "for clan in clans:\n",
    "    multiple_clan_info.append(await coc_utils.get_clan_info(client, clan.tag, detailed=False, omit_members=True))\n",
    "\n",
    "yeet_df = pd.DataFrame(multiple_clan_info)\n",
    "yeet_df"
   ]
  },
  {
   "cell_type": "markdown",
   "id": "be6bec90-edd8-4eb4-8688-53b9324f4ccd",
   "metadata": {},
   "source": [
    "Here, we were able to sample some information from player/clan data, now let's start finding the player/clan data on every opponent we've faced in war on record"
   ]
  },
  {
   "cell_type": "markdown",
   "id": "cf9ba0d4-3c5e-425d-94de-e2045ca808d0",
   "metadata": {},
   "source": [
    "---"
   ]
  },
  {
   "cell_type": "markdown",
   "id": "74d0251b-17b2-4105-b2ea-c0590dbe9e0d",
   "metadata": {},
   "source": [
    "## Convert Clan War Log to Dataframe <a id=\"convert\"></a>\n",
    "So we are able to sample information from both a player and a clan given the player tag and clan tag. Now, it would be more useful to gather data on each of the players and clans that we face against in the wars stored in our war logs. Below, we will collect all of the information on each war stored in a clan's war log (up to when CoC removes the war history) including information gathered by calling get_player_info and get_clan_info  \n",
    "Then, create the dataframe with each entry as an individual war  \n",
    "*Note: Loading all the war log data will take a while*"
   ]
  },
  {
   "cell_type": "code",
   "execution_count": 8,
   "id": "aeba9810-1b59-4157-879c-c1deed78810c",
   "metadata": {},
   "outputs": [
    {
     "name": "stdout",
     "output_type": "stream",
     "text": [
      "Wars 118 of 118 finished logging\n"
     ]
    }
   ],
   "source": [
    "war_log_info = await coc_utils.get_warlog_info(client, clan_tag, clan_details=True)"
   ]
  },
  {
   "cell_type": "markdown",
   "id": "7c42f846-6400-4942-b364-334ec65d8815",
   "metadata": {},
   "source": [
    "### Helper functions\n",
    "Below are helper methods for finding the cumulative sum of the highest N numbers of any list of data containing information on each member (such as attack wins for every member)"
   ]
  },
  {
   "cell_type": "code",
   "execution_count": 9,
   "id": "b309566a-6680-4ad6-8e91-b576476f497a",
   "metadata": {},
   "outputs": [],
   "source": [
    "# For each row in cumsum_arr and N_arr, retrieve array data from row in cumsum_arr and take the cumulative sum of the first n numbers in N_arr\n",
    "def cumulative_sum_N(cumsum_arr, N_arr):\n",
    "    cumulative_sums = cumsum_arr.apply(lambda x: np.nancumsum(x)).to_numpy()\n",
    "    a = []\n",
    "    for idx, size in enumerate(N_arr.values):\n",
    "        a.append(cumulative_sums[idx][np.minimum(np.maximum(0,len(cumulative_sums[idx])-1),size)]) if len(cumulative_sums[idx]) > 0 else a.append(None)\n",
    "    return pd.Series(a)\n",
    "\n",
    "# Take the cumulative sum of the first n numbers for each array in cumsum_arr\n",
    "def cumulative_sum(cumsum_arr, n):\n",
    "    cumsum_arr.apply(lambda x: np.cumsum(x)[n-1])"
   ]
  },
  {
   "cell_type": "markdown",
   "id": "670c90f0-d321-46fa-9606-9ee281edf3f9",
   "metadata": {},
   "source": [
    "### Convert log to dataframe\n",
    "The formatted output of coc_utils' get_warlog_info is able to be directed converted to a pandas dataframe"
   ]
  },
  {
   "cell_type": "code",
   "execution_count": 10,
   "id": "e875b135-ef40-4f99-8668-7008b82d522d",
   "metadata": {},
   "outputs": [],
   "source": [
    "df = pd.DataFrame(war_log_info)"
   ]
  },
  {
   "cell_type": "markdown",
   "id": "fb7f0fa5-5df6-4db9-8265-efe39f124cb5",
   "metadata": {},
   "source": [
    "### Data Calculations\n",
    "Now, we can start tidying up the data by adding additional metrics and removing unnecessary data.  \n",
    "We can use our helper functions to calculate the sum of the total member attack wins from the top n members of the clan"
   ]
  },
  {
   "cell_type": "code",
   "execution_count": 13,
   "id": "2c5330f8-c1f5-4ce4-a6da-2a65350f9abb",
   "metadata": {},
   "outputs": [],
   "source": [
    "df = pd.DataFrame(war_log_info)\n",
    "\n",
    "df = df.replace('None', np.NaN)\n",
    "\n",
    "# Aggregate sum metrics\n",
    "df['top_member_attack_wins'] = cumulative_sum_N(df['member_attack_wins'], df['team_size'])\n",
    "df['avg_member_attack_wins'] = df['top_member_attack_wins']/df['team_size']\n",
    "\n",
    "df['top_best_trophies'] = cumulative_sum_N(df['best_trophies'], df['team_size'])\n",
    "df['avg_best_trophies'] = df['top_best_trophies']/df['team_size']\n",
    "\n",
    "df['top_donations'] = cumulative_sum_N(df['donations'], df['team_size'])\n",
    "df['avg_donations'] = df['top_donations']/df['team_size']\n",
    "\n",
    "df['top_war_stars'] = cumulative_sum_N(df['war_stars'], df['team_size'])\n",
    "df['avg_war_stars'] = df['top_war_stars']/df['team_size']\n",
    "\n",
    "df['top_king_lvls'] = cumulative_sum_N(df['barbarian_king'],df['team_size'])\n",
    "df['avg_king_lvl'] = df['top_king_lvls']/df['team_size']\n",
    "df['top_queen_lvls'] = cumulative_sum_N(df['archer_queen'],df['team_size'])\n",
    "df['avg_queen_lvl'] = df['top_queen_lvls']/df['team_size']\n",
    "df['top_warden_lvls'] = cumulative_sum_N(df['grand_warden'],df['team_size'])\n",
    "df['avg_warden_lvl'] = df['top_warden_lvls']/df['team_size']\n",
    "df['top_rc_lvls'] = cumulative_sum_N(df['royal_champion'],df['team_size'])\n",
    "df['avg_rc_lvl'] = df['top_rc_lvls']/df['team_size']\n",
    "\n",
    "df['top_legend_trophies'] = cumulative_sum_N(df['legend_trophies'],df['team_size'])\n",
    "df['avg_legend_trophies'] = df['top_legend_trophies']/df['team_size']\n",
    "\n",
    "# Difference metric\n",
    "df['level_difference'] = df['clan_level'] - df['opponent_level']\n",
    "df['destruction_difference'] = df['clan_destruction'] - df['opponent_destruction']\n",
    "df['star_difference'] = df['clan_stars'] - df['opponent_stars']\n",
    "\n",
    "\n",
    "# Rates metric\n",
    "df['attack_rate'] = df['clan_attacks_used']/df['clan_total_attacks']\n",
    "df['opponent_win_rate'] = df['war_wins']/(df[['war_wins','war_ties','war_losses']].sum(numeric_only=True, axis=1))"
   ]
  },
  {
   "cell_type": "markdown",
   "id": "0a9c1862-041a-4ec4-a10a-1f1fa052ae36",
   "metadata": {},
   "source": [
    "### Data Tidying\n",
    "We will also remove redundant columns or columns which have missing data  \n",
    "The result metric will also be mapped from categorical wins and losses to 1s and 0s  \n",
    "The war league metric which will be mapped to the order of league ranking by number from Bronze League III to Titan League I and Legend League"
   ]
  },
  {
   "cell_type": "code",
   "execution_count": 16,
   "id": "413ff8ae-2989-4e85-aef1-ccfe36c0a411",
   "metadata": {},
   "outputs": [
    {
     "data": {
      "text/html": [
       "<div>\n",
       "<style scoped>\n",
       "    .dataframe tbody tr th:only-of-type {\n",
       "        vertical-align: middle;\n",
       "    }\n",
       "\n",
       "    .dataframe tbody tr th {\n",
       "        vertical-align: top;\n",
       "    }\n",
       "\n",
       "    .dataframe thead th {\n",
       "        text-align: right;\n",
       "    }\n",
       "</style>\n",
       "<table border=\"1\" class=\"dataframe\">\n",
       "  <thead>\n",
       "    <tr style=\"text-align: right;\">\n",
       "      <th></th>\n",
       "      <th>clan_attacks_used</th>\n",
       "      <th>clan_destruction</th>\n",
       "      <th>clan_exp_earned</th>\n",
       "      <th>clan_level</th>\n",
       "      <th>max_stars</th>\n",
       "      <th>clan_stars</th>\n",
       "      <th>clan_total_attacks</th>\n",
       "      <th>end_time</th>\n",
       "      <th>opponent_destruction</th>\n",
       "      <th>opponent_level</th>\n",
       "      <th>...</th>\n",
       "      <th>top_legend_trophies</th>\n",
       "      <th>avg_legend_trophies</th>\n",
       "      <th>level_difference</th>\n",
       "      <th>destruction_difference</th>\n",
       "      <th>star_difference</th>\n",
       "      <th>attack_rate</th>\n",
       "      <th>opponent_win_rate</th>\n",
       "      <th>result</th>\n",
       "      <th>war_league_map</th>\n",
       "      <th>result_map</th>\n",
       "    </tr>\n",
       "  </thead>\n",
       "  <tbody>\n",
       "    <tr>\n",
       "      <th>0</th>\n",
       "      <td>22</td>\n",
       "      <td>85.666664</td>\n",
       "      <td>190</td>\n",
       "      <td>17</td>\n",
       "      <td>45</td>\n",
       "      <td>36</td>\n",
       "      <td>45</td>\n",
       "      <td>2022-05-15 02:35:24</td>\n",
       "      <td>86.800000</td>\n",
       "      <td>13</td>\n",
       "      <td>...</td>\n",
       "      <td>1393.0</td>\n",
       "      <td>92.866667</td>\n",
       "      <td>4</td>\n",
       "      <td>-1.133336</td>\n",
       "      <td>0</td>\n",
       "      <td>0.488889</td>\n",
       "      <td>0.537931</td>\n",
       "      <td>lose</td>\n",
       "      <td>12</td>\n",
       "      <td>0</td>\n",
       "    </tr>\n",
       "    <tr>\n",
       "      <th>1</th>\n",
       "      <td>24</td>\n",
       "      <td>91.600000</td>\n",
       "      <td>244</td>\n",
       "      <td>17</td>\n",
       "      <td>45</td>\n",
       "      <td>38</td>\n",
       "      <td>45</td>\n",
       "      <td>2022-05-13 03:23:55</td>\n",
       "      <td>83.600000</td>\n",
       "      <td>17</td>\n",
       "      <td>...</td>\n",
       "      <td>7511.0</td>\n",
       "      <td>500.733333</td>\n",
       "      <td>0</td>\n",
       "      <td>8.000000</td>\n",
       "      <td>3</td>\n",
       "      <td>0.533333</td>\n",
       "      <td>0.358811</td>\n",
       "      <td>win</td>\n",
       "      <td>11</td>\n",
       "      <td>1</td>\n",
       "    </tr>\n",
       "    <tr>\n",
       "      <th>2</th>\n",
       "      <td>10</td>\n",
       "      <td>76.900000</td>\n",
       "      <td>129</td>\n",
       "      <td>17</td>\n",
       "      <td>30</td>\n",
       "      <td>18</td>\n",
       "      <td>30</td>\n",
       "      <td>2022-04-27 06:26:59</td>\n",
       "      <td>93.200000</td>\n",
       "      <td>20</td>\n",
       "      <td>...</td>\n",
       "      <td>4158.0</td>\n",
       "      <td>415.800000</td>\n",
       "      <td>-3</td>\n",
       "      <td>-16.300000</td>\n",
       "      <td>-7</td>\n",
       "      <td>0.333333</td>\n",
       "      <td>1.000000</td>\n",
       "      <td>lose</td>\n",
       "      <td>11</td>\n",
       "      <td>0</td>\n",
       "    </tr>\n",
       "    <tr>\n",
       "      <th>3</th>\n",
       "      <td>13</td>\n",
       "      <td>99.300000</td>\n",
       "      <td>183</td>\n",
       "      <td>17</td>\n",
       "      <td>30</td>\n",
       "      <td>29</td>\n",
       "      <td>30</td>\n",
       "      <td>2022-04-25 04:18:56</td>\n",
       "      <td>74.900000</td>\n",
       "      <td>14</td>\n",
       "      <td>...</td>\n",
       "      <td>0.0</td>\n",
       "      <td>0.000000</td>\n",
       "      <td>3</td>\n",
       "      <td>24.400000</td>\n",
       "      <td>7</td>\n",
       "      <td>0.433333</td>\n",
       "      <td>1.000000</td>\n",
       "      <td>win</td>\n",
       "      <td>8</td>\n",
       "      <td>1</td>\n",
       "    </tr>\n",
       "    <tr>\n",
       "      <th>4</th>\n",
       "      <td>16</td>\n",
       "      <td>80.600000</td>\n",
       "      <td>176</td>\n",
       "      <td>17</td>\n",
       "      <td>45</td>\n",
       "      <td>32</td>\n",
       "      <td>45</td>\n",
       "      <td>2022-04-20 04:35:29</td>\n",
       "      <td>85.133330</td>\n",
       "      <td>23</td>\n",
       "      <td>...</td>\n",
       "      <td>14531.0</td>\n",
       "      <td>968.733333</td>\n",
       "      <td>-6</td>\n",
       "      <td>-4.533330</td>\n",
       "      <td>-7</td>\n",
       "      <td>0.355556</td>\n",
       "      <td>1.000000</td>\n",
       "      <td>lose</td>\n",
       "      <td>12</td>\n",
       "      <td>0</td>\n",
       "    </tr>\n",
       "    <tr>\n",
       "      <th>...</th>\n",
       "      <td>...</td>\n",
       "      <td>...</td>\n",
       "      <td>...</td>\n",
       "      <td>...</td>\n",
       "      <td>...</td>\n",
       "      <td>...</td>\n",
       "      <td>...</td>\n",
       "      <td>...</td>\n",
       "      <td>...</td>\n",
       "      <td>...</td>\n",
       "      <td>...</td>\n",
       "      <td>...</td>\n",
       "      <td>...</td>\n",
       "      <td>...</td>\n",
       "      <td>...</td>\n",
       "      <td>...</td>\n",
       "      <td>...</td>\n",
       "      <td>...</td>\n",
       "      <td>...</td>\n",
       "      <td>...</td>\n",
       "      <td>...</td>\n",
       "    </tr>\n",
       "    <tr>\n",
       "      <th>96</th>\n",
       "      <td>23</td>\n",
       "      <td>82.266670</td>\n",
       "      <td>211</td>\n",
       "      <td>15</td>\n",
       "      <td>45</td>\n",
       "      <td>37</td>\n",
       "      <td>45</td>\n",
       "      <td>2021-04-29 05:01:08</td>\n",
       "      <td>91.066666</td>\n",
       "      <td>18</td>\n",
       "      <td>...</td>\n",
       "      <td>968.0</td>\n",
       "      <td>64.533333</td>\n",
       "      <td>-3</td>\n",
       "      <td>-8.799996</td>\n",
       "      <td>1</td>\n",
       "      <td>0.511111</td>\n",
       "      <td>1.000000</td>\n",
       "      <td>win</td>\n",
       "      <td>8</td>\n",
       "      <td>1</td>\n",
       "    </tr>\n",
       "    <tr>\n",
       "      <th>97</th>\n",
       "      <td>34</td>\n",
       "      <td>89.750000</td>\n",
       "      <td>243</td>\n",
       "      <td>15</td>\n",
       "      <td>60</td>\n",
       "      <td>50</td>\n",
       "      <td>60</td>\n",
       "      <td>2021-04-26 03:56:57</td>\n",
       "      <td>61.050000</td>\n",
       "      <td>18</td>\n",
       "      <td>...</td>\n",
       "      <td>3796.0</td>\n",
       "      <td>189.800000</td>\n",
       "      <td>-3</td>\n",
       "      <td>28.700000</td>\n",
       "      <td>19</td>\n",
       "      <td>0.566667</td>\n",
       "      <td>0.405714</td>\n",
       "      <td>win</td>\n",
       "      <td>10</td>\n",
       "      <td>1</td>\n",
       "    </tr>\n",
       "    <tr>\n",
       "      <th>98</th>\n",
       "      <td>22</td>\n",
       "      <td>89.733330</td>\n",
       "      <td>216</td>\n",
       "      <td>15</td>\n",
       "      <td>45</td>\n",
       "      <td>37</td>\n",
       "      <td>45</td>\n",
       "      <td>2021-04-23 06:51:55</td>\n",
       "      <td>74.133330</td>\n",
       "      <td>15</td>\n",
       "      <td>...</td>\n",
       "      <td>0.0</td>\n",
       "      <td>0.000000</td>\n",
       "      <td>0</td>\n",
       "      <td>15.600000</td>\n",
       "      <td>7</td>\n",
       "      <td>0.488889</td>\n",
       "      <td>1.000000</td>\n",
       "      <td>win</td>\n",
       "      <td>8</td>\n",
       "      <td>1</td>\n",
       "    </tr>\n",
       "    <tr>\n",
       "      <th>99</th>\n",
       "      <td>24</td>\n",
       "      <td>88.133330</td>\n",
       "      <td>161</td>\n",
       "      <td>15</td>\n",
       "      <td>45</td>\n",
       "      <td>36</td>\n",
       "      <td>45</td>\n",
       "      <td>2021-04-21 03:40:06</td>\n",
       "      <td>87.066666</td>\n",
       "      <td>17</td>\n",
       "      <td>...</td>\n",
       "      <td>0.0</td>\n",
       "      <td>0.000000</td>\n",
       "      <td>-2</td>\n",
       "      <td>1.066664</td>\n",
       "      <td>-3</td>\n",
       "      <td>0.533333</td>\n",
       "      <td>0.532138</td>\n",
       "      <td>lose</td>\n",
       "      <td>9</td>\n",
       "      <td>0</td>\n",
       "    </tr>\n",
       "    <tr>\n",
       "      <th>100</th>\n",
       "      <td>19</td>\n",
       "      <td>93.133330</td>\n",
       "      <td>0</td>\n",
       "      <td>13</td>\n",
       "      <td>45</td>\n",
       "      <td>41</td>\n",
       "      <td>45</td>\n",
       "      <td>2020-10-31 23:32:26</td>\n",
       "      <td>7.866667</td>\n",
       "      <td>3</td>\n",
       "      <td>...</td>\n",
       "      <td>0.0</td>\n",
       "      <td>0.000000</td>\n",
       "      <td>10</td>\n",
       "      <td>85.266663</td>\n",
       "      <td>38</td>\n",
       "      <td>0.422222</td>\n",
       "      <td>1.000000</td>\n",
       "      <td>win</td>\n",
       "      <td>6</td>\n",
       "      <td>1</td>\n",
       "    </tr>\n",
       "  </tbody>\n",
       "</table>\n",
       "<p>101 rows × 73 columns</p>\n",
       "</div>"
      ],
      "text/plain": [
       "     clan_attacks_used  clan_destruction  clan_exp_earned  clan_level  \\\n",
       "0                   22         85.666664              190          17   \n",
       "1                   24         91.600000              244          17   \n",
       "2                   10         76.900000              129          17   \n",
       "3                   13         99.300000              183          17   \n",
       "4                   16         80.600000              176          17   \n",
       "..                 ...               ...              ...         ...   \n",
       "96                  23         82.266670              211          15   \n",
       "97                  34         89.750000              243          15   \n",
       "98                  22         89.733330              216          15   \n",
       "99                  24         88.133330              161          15   \n",
       "100                 19         93.133330                0          13   \n",
       "\n",
       "     max_stars  clan_stars  clan_total_attacks             end_time  \\\n",
       "0           45          36                  45  2022-05-15 02:35:24   \n",
       "1           45          38                  45  2022-05-13 03:23:55   \n",
       "2           30          18                  30  2022-04-27 06:26:59   \n",
       "3           30          29                  30  2022-04-25 04:18:56   \n",
       "4           45          32                  45  2022-04-20 04:35:29   \n",
       "..         ...         ...                 ...                  ...   \n",
       "96          45          37                  45  2021-04-29 05:01:08   \n",
       "97          60          50                  60  2021-04-26 03:56:57   \n",
       "98          45          37                  45  2021-04-23 06:51:55   \n",
       "99          45          36                  45  2021-04-21 03:40:06   \n",
       "100         45          41                  45  2020-10-31 23:32:26   \n",
       "\n",
       "     opponent_destruction  opponent_level  ... top_legend_trophies  \\\n",
       "0               86.800000              13  ...              1393.0   \n",
       "1               83.600000              17  ...              7511.0   \n",
       "2               93.200000              20  ...              4158.0   \n",
       "3               74.900000              14  ...                 0.0   \n",
       "4               85.133330              23  ...             14531.0   \n",
       "..                    ...             ...  ...                 ...   \n",
       "96              91.066666              18  ...               968.0   \n",
       "97              61.050000              18  ...              3796.0   \n",
       "98              74.133330              15  ...                 0.0   \n",
       "99              87.066666              17  ...                 0.0   \n",
       "100              7.866667               3  ...                 0.0   \n",
       "\n",
       "    avg_legend_trophies  level_difference destruction_difference  \\\n",
       "0             92.866667                 4              -1.133336   \n",
       "1            500.733333                 0               8.000000   \n",
       "2            415.800000                -3             -16.300000   \n",
       "3              0.000000                 3              24.400000   \n",
       "4            968.733333                -6              -4.533330   \n",
       "..                  ...               ...                    ...   \n",
       "96            64.533333                -3              -8.799996   \n",
       "97           189.800000                -3              28.700000   \n",
       "98             0.000000                 0              15.600000   \n",
       "99             0.000000                -2               1.066664   \n",
       "100            0.000000                10              85.266663   \n",
       "\n",
       "     star_difference attack_rate opponent_win_rate  result war_league_map  \\\n",
       "0                  0    0.488889          0.537931    lose             12   \n",
       "1                  3    0.533333          0.358811     win             11   \n",
       "2                 -7    0.333333          1.000000    lose             11   \n",
       "3                  7    0.433333          1.000000     win              8   \n",
       "4                 -7    0.355556          1.000000    lose             12   \n",
       "..               ...         ...               ...     ...            ...   \n",
       "96                 1    0.511111          1.000000     win              8   \n",
       "97                19    0.566667          0.405714     win             10   \n",
       "98                 7    0.488889          1.000000     win              8   \n",
       "99                -3    0.533333          0.532138    lose              9   \n",
       "100               38    0.422222          1.000000     win              6   \n",
       "\n",
       "     result_map  \n",
       "0             0  \n",
       "1             1  \n",
       "2             0  \n",
       "3             1  \n",
       "4             0  \n",
       "..          ...  \n",
       "96            1  \n",
       "97            1  \n",
       "98            1  \n",
       "99            0  \n",
       "100           1  \n",
       "\n",
       "[101 rows x 73 columns]"
      ]
     },
     "execution_count": 16,
     "metadata": {},
     "output_type": "execute_result"
    }
   ],
   "source": [
    "df = df.drop(columns = ['opponent_max_stars','opponent_total_attacks']) # Same as clan_max_stars\n",
    "df = df.rename(columns = {'clan_max_stars': 'max_stars'})\n",
    "col = df.pop(\"result\")\n",
    "df.insert(len(df.columns), col.name, col)\n",
    "\n",
    "# Map a number for each clan league in war league\n",
    "league_map = {'Bronze League III': 0,\n",
    "              'Bronze League II': 1,\n",
    "              'Bronze League I': 2,\n",
    "              'Silver League III': 3,\n",
    "              'Silver League II': 4,\n",
    "              'Silver League I': 5,\n",
    "              'Gold League III': 6,\n",
    "              'Gold League II': 7,\n",
    "              'Gold League I': 8,\n",
    "              'Crystal League III': 9,\n",
    "              'Crystal League II': 10,\n",
    "              'Crystal League I': 11,\n",
    "              'Master League III': 12,\n",
    "              'Master League II': 13,\n",
    "              'Master League I': 14,\n",
    "              'Champion League III': 15,\n",
    "              'Champion League II': 16,\n",
    "              'Champion League I': 17,\n",
    "              'Titan League III': 18,\n",
    "              'Titan League II': 19,\n",
    "              'Titan League I': 20,\n",
    "              'Legend League': 21}\n",
    "\n",
    "df['war_league_map'] = df['war_league'].apply(lambda x: league_map[x])\n",
    "\n",
    "# Map 1s for every win in result\n",
    "df['result_map'] = df['result'].map({'win': 1, 'lose': 0})\n",
    "\n",
    "df = df.dropna(subset=['result','clan_destruction','opponent_destruction', 'war_wins'])\n",
    "\n",
    "df"
   ]
  },
  {
   "cell_type": "markdown",
   "id": "d07bafb1-d745-486b-a450-89e1c500a3df",
   "metadata": {},
   "source": [
    "## Analysis <a id=\"analysis\"></a>\n",
    "After successfully importing the data, we can begin to run analysis with the dataframe. More specifically, we are looking to find the effect and correlation of parameters on the war result\n",
    "### Parameter Correlation\n",
    "Here we can display the correlation of each parameter with the war result"
   ]
  },
  {
   "cell_type": "code",
   "execution_count": 17,
   "id": "1ef44d06-758f-4486-ba67-bbe1081b1483",
   "metadata": {},
   "outputs": [
    {
     "data": {
      "text/plain": [
       "clan_attacks_used         0.021525\n",
       "clan_destruction          0.532464\n",
       "clan_exp_earned           0.456106\n",
       "clan_level               -0.164137\n",
       "max_stars                -0.053940\n",
       "clan_stars                0.164940\n",
       "clan_total_attacks       -0.053940\n",
       "opponent_destruction     -0.463172\n",
       "opponent_level           -0.100628\n",
       "opponent_stars           -0.367129\n",
       "team_size                -0.053940\n",
       "level                    -0.118597\n",
       "member_count             -0.127981\n",
       "points                   -0.113134\n",
       "required_trophies        -0.036043\n",
       "versus_points            -0.113019\n",
       "war_losses                0.169503\n",
       "war_ties                 -0.131119\n",
       "war_win_streak           -0.134005\n",
       "war_wins                 -0.195339\n",
       "total_war_opted_in       -0.114891\n",
       "top_member_attack_wins   -0.073575\n",
       "avg_member_attack_wins   -0.058511\n",
       "top_best_trophies        -0.087744\n",
       "avg_best_trophies        -0.088146\n",
       "top_donations            -0.092149\n",
       "avg_donations            -0.082280\n",
       "top_war_stars            -0.182654\n",
       "avg_war_stars            -0.168421\n",
       "top_king_lvls            -0.071743\n",
       "avg_king_lvl             -0.058215\n",
       "top_queen_lvls           -0.079433\n",
       "avg_queen_lvl            -0.074627\n",
       "top_warden_lvls          -0.051883\n",
       "avg_warden_lvl           -0.045016\n",
       "top_rc_lvls              -0.056851\n",
       "avg_rc_lvl               -0.063134\n",
       "top_legend_trophies      -0.140459\n",
       "avg_legend_trophies      -0.124869\n",
       "level_difference          0.068927\n",
       "destruction_difference    0.625450\n",
       "star_difference           0.658874\n",
       "attack_rate               0.131816\n",
       "opponent_win_rate         0.052899\n",
       "war_league_map           -0.237141\n",
       "result_map                1.000000\n",
       "Name: result_map, dtype: float64"
      ]
     },
     "execution_count": 17,
     "metadata": {},
     "output_type": "execute_result"
    }
   ],
   "source": [
    "df.corr()['result_map']"
   ]
  },
  {
   "cell_type": "markdown",
   "id": "22032488-50ca-4f6b-9dea-2bb839cd59f4",
   "metadata": {},
   "source": [
    "We will also sort these correlation values by absolute value to determine the most impactful driving conditions for winning the war  \n",
    "From this, we can determine that the most impactful parameters are star difference, destruction difference, war league map, and war wins (clan exp earned is a result received after winning or losing a war)."
   ]
  },
  {
   "cell_type": "code",
   "execution_count": 18,
   "id": "c980e1fe-cee5-48ad-9656-0fc8f02e006e",
   "metadata": {},
   "outputs": [
    {
     "data": {
      "text/plain": [
       "star_difference           0.658874\n",
       "destruction_difference    0.625450\n",
       "clan_destruction          0.532464\n",
       "opponent_destruction      0.463172\n",
       "opponent_stars            0.367129\n",
       "war_league_map            0.237141\n",
       "war_wins                  0.195339\n",
       "top_war_stars             0.182654\n",
       "war_losses                0.169503\n",
       "avg_war_stars             0.168421\n",
       "clan_stars                0.164940\n",
       "clan_level                0.164137\n",
       "top_legend_trophies       0.140459\n",
       "war_win_streak            0.134005\n",
       "attack_rate               0.131816\n",
       "war_ties                  0.131119\n",
       "member_count              0.127981\n",
       "avg_legend_trophies       0.124869\n",
       "level                     0.118597\n",
       "total_war_opted_in        0.114891\n",
       "points                    0.113134\n",
       "versus_points             0.113019\n",
       "opponent_level            0.100628\n",
       "top_donations             0.092149\n",
       "avg_best_trophies         0.088146\n",
       "top_best_trophies         0.087744\n",
       "avg_donations             0.082280\n",
       "top_queen_lvls            0.079433\n",
       "avg_queen_lvl             0.074627\n",
       "top_member_attack_wins    0.073575\n",
       "top_king_lvls             0.071743\n",
       "level_difference          0.068927\n",
       "avg_rc_lvl                0.063134\n",
       "avg_member_attack_wins    0.058511\n",
       "avg_king_lvl              0.058215\n",
       "top_rc_lvls               0.056851\n",
       "team_size                 0.053940\n",
       "clan_total_attacks        0.053940\n",
       "max_stars                 0.053940\n",
       "opponent_win_rate         0.052899\n",
       "top_warden_lvls           0.051883\n",
       "avg_warden_lvl            0.045016\n",
       "required_trophies         0.036043\n",
       "clan_attacks_used         0.021525\n",
       "Name: result_map, dtype: float64"
      ]
     },
     "execution_count": 18,
     "metadata": {},
     "output_type": "execute_result"
    }
   ],
   "source": [
    "df.corr()['result_map'].abs().sort_values(ascending=False).drop('clan_exp_earned')[1:]"
   ]
  },
  {
   "cell_type": "markdown",
   "id": "e5064bab-c1a3-4fed-a208-5c38419919ec",
   "metadata": {},
   "source": [
    "### Clan Star/Destruction vs. Opponent Star/Destruction\n",
    "Let us start by finding the star difference between the clan and the opponent and plotting their relative density  \n",
    "This illustrates that the difference tends to be around zero regardless of the team size"
   ]
  },
  {
   "cell_type": "code",
   "execution_count": 19,
   "id": "dace1c3c-ad5d-47d1-b539-c65f0b061bb7",
   "metadata": {},
   "outputs": [
    {
     "data": {
      "image/png": "[encoded data removed]",
      "text/plain": [
       "<Figure size 432x288 with 1 Axes>"
      ]
     },
     "metadata": {
      "needs_background": "light"
     },
     "output_type": "display_data"
    }
   ],
   "source": [
    "sns.kdeplot(data=(df[(df['team_size'] > 5) & (df['team_size'] < 25)]), x='star_difference', hue='team_size', fill=True, common_norm=False, palette = 'crest');\n",
    "plt.xlabel('Star Difference')\n",
    "plt.title('Star difference between Clan stars and Opponent Stars');"
   ]
  },
  {
   "cell_type": "markdown",
   "id": "4efe45f3-b29e-47b7-9e1d-69003bbd3296",
   "metadata": {},
   "source": [
    "Here we plot the rate of destruction each side has while also including whether they win or lose.  \n",
    "We can then find the relationship between clan destruction and opponent destruction while grouping by the team size of the war that is queued  \n",
    "It can be seen that there is some relationship between having enough clan destruction over opponent destruction to win the war.  "
   ]
  },
  {
   "cell_type": "code",
   "execution_count": 20,
   "id": "4b7ac8e2-90a0-43f9-b8f2-37653087c29c",
   "metadata": {},
   "outputs": [
    {
     "data": {
      "image/png": "[encoded data removed]",
      "text/plain": [
       "<Figure size 1496.25x360 with 4 Axes>"
      ]
     },
     "metadata": {
      "needs_background": "light"
     },
     "output_type": "display_data"
    }
   ],
   "source": [
    "sns.relplot(\n",
    "    data=df[df['team_size'] > 5],\n",
    "    x=\"opponent_destruction\", y=\"clan_destruction\", col=\"team_size\",\n",
    "    hue=\"result\", hue_order=df['result'].unique()[::-1], style=\"result\", style_order=df['result'].unique()[::-1],\n",
    ")\n",
    "plt.xlabel('Opponent Destruction %')\n",
    "plt.ylabel('Clan Destruction %')\n",
    "plt.xlim(55,100)\n",
    "plt.ylim(70,100);"
   ]
  },
  {
   "cell_type": "markdown",
   "id": "d11eb091-7c73-4194-be0f-320eee6129d4",
   "metadata": {},
   "source": [
    "We will also plot the total comparison regardless of team size as well"
   ]
  },
  {
   "cell_type": "code",
   "execution_count": 21,
   "id": "4cd65305-33f8-4c32-9521-5545bec244b6",
   "metadata": {},
   "outputs": [
    {
     "data": {
      "image/png": "[encoded data removed]",
      "text/plain": [
       "<Figure size 416.25x360 with 1 Axes>"
      ]
     },
     "metadata": {
      "needs_background": "light"
     },
     "output_type": "display_data"
    }
   ],
   "source": [
    "sns.relplot(\n",
    "    data=df[df['team_size'] > 5],\n",
    "    x=\"opponent_destruction\", y=\"clan_destruction\",\n",
    "    hue=\"result\", hue_order=df['result'].unique()[::-1], style=\"result\", style_order=df['result'].unique()[::-1],\n",
    ")\n",
    "plt.xlim(65,100)\n",
    "plt.ylim(70,100);"
   ]
  },
  {
   "cell_type": "markdown",
   "id": "29e2b32c-9d9c-4506-b757-2c84de900597",
   "metadata": {},
   "source": [
    "### Linear Classification\n",
    "Let us test to find a boundary which is able to classify wins and losses for the stars received by both clans\n",
    "Since clan stars is the main method by which the winner of the clan war is determined, it should be expected that the classifier will be a linear model"
   ]
  },
  {
   "cell_type": "code",
   "execution_count": 22,
   "id": "4cfdd67c-ae28-4368-8f3e-0c551dec0c63",
   "metadata": {},
   "outputs": [
    {
     "data": {
      "image/png": "[encoded data removed]",
      "text/plain": [
       "<Figure size 720x576 with 1 Axes>"
      ]
     },
     "metadata": {
      "needs_background": "light"
     },
     "output_type": "display_data"
    }
   ],
   "source": [
    "X = np.asarray(list(zip(df.clan_stars,df.opponent_stars)))\n",
    "y = np.asarray(df['result'].map({'win': 1, 'lose': 0}))\n",
    "\n",
    "# Fit the data to a logistic regression model.\n",
    "clf = sklearn.linear_model.LogisticRegression()\n",
    "clf.fit(X, y)\n",
    "\n",
    "plt.figure(figsize=(10, 8))\n",
    "\n",
    "# Retrieve the model parameters.\n",
    "b = clf.intercept_[0]\n",
    "w1, w2 = clf.coef_.T\n",
    "# Calculate the intercept and gradient of the decision boundary.\n",
    "c = -b/w2\n",
    "m = -w1/w2\n",
    "\n",
    "# Plot the data and the classification with the decision boundary.\n",
    "xmin, xmax = 5, 60\n",
    "ymin, ymax = 5, 60\n",
    "xd = np.array([xmin, xmax])\n",
    "yd = m*xd + c\n",
    "plt.plot(xd, yd, 'k', lw=1, ls='--')\n",
    "plt.fill_between(xd, yd, ymin, color='tab:orange', alpha=0.2)\n",
    "plt.fill_between(xd, yd, ymax, color='tab:blue', alpha=0.2)\n",
    "\n",
    "plt.scatter(*X[y==0].T, s=32, alpha=0.5)\n",
    "plt.scatter(*X[y==1].T, s=32, alpha=0.5)\n",
    "plt.xlim(xmin, xmax)\n",
    "plt.ylim(ymin, ymax)\n",
    "plt.ylabel('Clan Stars')\n",
    "plt.xlabel('Opponent Stars')\n",
    "\n",
    "plt.show()"
   ]
  },
  {
   "cell_type": "markdown",
   "id": "c8d31839-08c7-4bc1-b33e-e45f20ca060f",
   "metadata": {},
   "source": [
    "Let us also use a linear regression model to determine the boundary between winning vs. losing the war via clan destruction  \n",
    "We use a linear model here because of the influence of having more clan destruction is one of the tie breaking methods of determining the winner of a war, so we aim to find an approximate boundary for which we can estimate how much destruction we should aim for in war in order to win"
   ]
  },
  {
   "cell_type": "code",
   "execution_count": 23,
   "id": "782412b0-fea4-46b2-afc1-aa3de78e9094",
   "metadata": {},
   "outputs": [
    {
     "data": {
      "image/png": "[encoded data removed]",
      "text/plain": [
       "<Figure size 720x576 with 1 Axes>"
      ]
     },
     "metadata": {
      "needs_background": "light"
     },
     "output_type": "display_data"
    }
   ],
   "source": [
    "X = np.asarray(list(zip(df.clan_destruction,df.opponent_destruction)))\n",
    "y = np.asarray(df['result'].map({'win': 1, 'lose': 0}))\n",
    "\n",
    "# Fit the data to a logistic regression model.\n",
    "clf = sklearn.linear_model.LogisticRegression()\n",
    "clf.fit(X, y)\n",
    "\n",
    "plt.figure(figsize=(10, 8))\n",
    "\n",
    "# Retrieve the model parameters.\n",
    "b = clf.intercept_[0]\n",
    "w1, w2 = clf.coef_.T\n",
    "# Calculate the intercept and gradient of the decision boundary.\n",
    "c = -b/w2\n",
    "m = -w1/w2\n",
    "\n",
    "# Plot the data and the classification with the decision boundary.\n",
    "xmin, xmax = 70, 100\n",
    "ymin, ymax = 70, 100\n",
    "xd = np.array([xmin, xmax])\n",
    "yd = m*xd + c\n",
    "plt.plot(xd, yd, 'k', lw=1, ls='--')\n",
    "plt.fill_between(xd, yd, ymin, color='tab:orange', alpha=0.2)\n",
    "plt.fill_between(xd, yd, ymax, color='tab:blue', alpha=0.2)\n",
    "\n",
    "plt.scatter(*X[y==0].T, s=32, alpha=0.5, marker='o')\n",
    "plt.scatter(*X[y==1].T, s=32, alpha=0.5, marker='x')\n",
    "plt.xlim(xmin, xmax)\n",
    "plt.ylim(ymin, ymax)\n",
    "plt.ylabel('Clan Destruction %')\n",
    "plt.xlabel('Opponent Destruction %')\n",
    "\n",
    "plt.show()"
   ]
  },
  {
   "cell_type": "markdown",
   "id": "6a538069-d2e6-46c1-a5ff-2524ca22facc",
   "metadata": {},
   "source": [
    "Here, we will also look at the correlation between the opponent's war league map and their war wins as well. Since both these parameters are one of the driving factors behind the war result, there may exist a relationship between these two parameters as well  \n",
    "However after plotting these parameters, there does not appear to be a clear relationship or reliable classifier between these parameters.  \n",
    "It may be because the distribution of war wins for a clan is normally distributed."
   ]
  },
  {
   "cell_type": "code",
   "execution_count": 24,
   "id": "f85b9b7c-f8cc-4061-ac06-59a6c7792048",
   "metadata": {},
   "outputs": [
    {
     "data": {
      "image/png": "[encoded data removed]",
      "text/plain": [
       "<Figure size 720x576 with 1 Axes>"
      ]
     },
     "metadata": {
      "needs_background": "light"
     },
     "output_type": "display_data"
    }
   ],
   "source": [
    "X = np.asarray(list(zip(df.war_league_map,df.war_wins)))\n",
    "y = np.asarray(df['result'].map({'win': 1, 'lose': 0}))\n",
    "\n",
    "# Fit the data to a logistic regression model.\n",
    "clf = sklearn.linear_model.LogisticRegression()\n",
    "clf.fit(X, y)\n",
    "\n",
    "plt.figure(figsize=(10, 8))\n",
    "\n",
    "# Retrieve the model parameters.\n",
    "b = clf.intercept_[0]\n",
    "w1, w2 = clf.coef_.T\n",
    "# Calculate the intercept and gradient of the decision boundary.\n",
    "c = -b/w2\n",
    "m = -w1/w2\n",
    "\n",
    "# Plot the data and the classification with the decision boundary.\n",
    "xmin, xmax = 0, 20\n",
    "ymin, ymax = 0, 800\n",
    "xd = np.array([xmin, xmax])\n",
    "yd = m*xd + c\n",
    "plt.plot(xd, yd, 'k', lw=1, ls='--')\n",
    "plt.fill_between(xd, yd, ymin, color='tab:orange', alpha=0.2)\n",
    "plt.fill_between(xd, yd, ymax, color='tab:blue', alpha=0.2)\n",
    "\n",
    "plt.scatter(*X[y==0].T, s=32, alpha=0.5, marker='o')\n",
    "plt.scatter(*X[y==1].T, s=32, alpha=0.5, marker='x')\n",
    "plt.xlim(xmin, xmax)\n",
    "plt.ylim(ymin, ymax)\n",
    "plt.ylabel('Opponent War Wins')\n",
    "plt.xlabel('War League Map')\n",
    "plt.legend(['Boundary','Lose', 'Win'])\n",
    "\n",
    "plt.show()"
   ]
  },
  {
   "cell_type": "markdown",
   "id": "7c36b422-de0b-4362-abca-4a7404637a14",
   "metadata": {},
   "source": [
    "### Testing for Gaussian Distribution\n",
    "From the previous assumption of war wins being normally distributed, we can test for this by using the Shapiro-Wilk Normality test to test for this Gaussian assumption.  \n",
    "In this case, since the p > 0.05, the likelihood of war wins being normally distributed is higher than the likelihood of it not being normally distributed"
   ]
  },
  {
   "cell_type": "code",
   "execution_count": 25,
   "id": "6053fc5b-8283-4464-8697-299998b2350b",
   "metadata": {},
   "outputs": [
    {
     "data": {
      "text/plain": [
       "(0.9816934466362, 0.17481772601604462, True)"
      ]
     },
     "execution_count": 25,
     "metadata": {},
     "output_type": "execute_result"
    }
   ],
   "source": [
    "stat, p = shapiro(df.war_wins)\n",
    "is_gaussian = True if p > 0.05 else False\n",
    "stat, p, is_gaussian"
   ]
  },
  {
   "cell_type": "markdown",
   "id": "c82335e3-2c1d-482f-82cf-e8c65e2523aa",
   "metadata": {},
   "source": [
    "## Conclusion\n",
    "From this analysis, it can be clear the importance of knowing the information which drives the result of winning or losing clan wars. For the manager of the clan, it becomes easier to test for these parameters and be able to make various conclusions about why a certain war was won or how the next war against a Master League III war league clan could be won. I think that these tools are especially useful for gathering data on clan information extremely quickly, and this notebook serves to guide by showing how the Clash of Clans API might be used to for the purposes of improving the clans of the users who run these analyses."
   ]
  }
 ],
 "metadata": {
  "kernelspec": {
   "display_name": "Python 3 (ipykernel)",
   "language": "python",
   "name": "python3"
  },
  "language_info": {
   "codemirror_mode": {
    "name": "ipython",
    "version": 3
   },
   "file_extension": ".py",
   "mimetype": "text/x-python",
   "name": "python",
   "nbconvert_exporter": "python",
   "pygments_lexer": "ipython3",
   "version": "3.9.10"
  }
 },
 "nbformat": 4,
 "nbformat_minor": 5
}
